{
 "cells": [
  {
   "cell_type": "code",
   "execution_count": 181,
   "metadata": {},
   "outputs": [],
   "source": [
    "import panel as pn\n",
    "import param\n",
    "import conv_model"
   ]
  },
  {
   "cell_type": "code",
   "execution_count": null,
   "metadata": {},
   "outputs": [],
   "source": [
    "Review_Editor = pn.widgets.TextEditor(placeholder='Your review', height=200, width=400)\n",
    "button = pn.widgets.Button(name='Send_review', button_type='primary')\n",
    "number_mask = {1: 'Positive', 0: 'Negative'}\n",
    "static_text = pn.widgets.StaticText(value='')\n",
    "select = pn.widgets.Select(name='Select', options=['Positive', 'Negative'])\n",
    "switch = pn.widgets.Switch(name='Switch', value = True)\n",
    "def b(event):\n",
    "    review = Review_Editor.value[3:-4]\n",
    "    if switch.value:\n",
    "        static_text.value = number_mask[round(conv_model.prediction(review)[0][0])]\n",
    "    else:\n",
    "      static_text.value = select.value  \n",
    "    \n",
    "button.on_click(b)\n",
    "template = pn.template.FastListTemplate(\n",
    "    title='Leave your review for a movie you recently watched:',\n",
    "    main=[pn.Row(pn.Column(pn.pane.Markdown(\"### Leave your review for a movie you recently watched:\"),\n",
    "                            Review_Editor,\n",
    "                            pn.Row(button,pn.Spacer(width=90), pn.pane.Markdown(\"Automatic rate:\", margin=(-10,0)), switch),\n",
    "                            select),\n",
    "                 pn.Column(pn.pane.Markdown(\"### Estimated rating of the film based on your review:\"), static_text)\n",
    "            )],\n",
    "    accent_base_color=\"#4285F4\",\n",
    "    header_background=\"#cf262b\",\n",
    ")\n",
    "template.show();"
   ]
  }
 ],
 "metadata": {
  "kernelspec": {
   "display_name": "Python 3",
   "language": "python",
   "name": "python3"
  },
  "language_info": {
   "codemirror_mode": {
    "name": "ipython",
    "version": 3
   },
   "file_extension": ".py",
   "mimetype": "text/x-python",
   "name": "python",
   "nbconvert_exporter": "python",
   "pygments_lexer": "ipython3",
   "version": "3.10.6"
  },
  "orig_nbformat": 4
 },
 "nbformat": 4,
 "nbformat_minor": 2
}
